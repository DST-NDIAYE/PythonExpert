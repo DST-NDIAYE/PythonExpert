{
 "cells": [
  {
   "cell_type": "markdown",
   "metadata": {},
   "source": [
    "# Liste"
   ]
  },
  {
   "cell_type": "code",
   "execution_count": 7,
   "metadata": {},
   "outputs": [],
   "source": [
    "liste = [ 1, 2, 3, 4, 5, 6, 7, 8, 9, 10 ]"
   ]
  },
  {
   "cell_type": "code",
   "execution_count": 8,
   "metadata": {},
   "outputs": [
    {
     "name": "stdout",
     "output_type": "stream",
     "text": [
      "1\n",
      "2\n",
      "3\n",
      "4\n",
      "5\n",
      "6\n",
      "7\n",
      "8\n",
      "9\n",
      "10\n"
     ]
    }
   ],
   "source": [
    "for l in liste: \n",
    "    print(l)"
   ]
  },
  {
   "cell_type": "code",
   "execution_count": 9,
   "metadata": {},
   "outputs": [
    {
     "name": "stdout",
     "output_type": "stream",
     "text": [
      "number of elements in the list:  10\n"
     ]
    }
   ],
   "source": [
    "print(\"number of elements in the list: \", len(liste))"
   ]
  },
  {
   "cell_type": "code",
   "execution_count": 10,
   "metadata": {},
   "outputs": [],
   "source": [
    "liste.append(19876)"
   ]
  },
  {
   "cell_type": "code",
   "execution_count": 11,
   "metadata": {},
   "outputs": [
    {
     "data": {
      "text/plain": [
       "[1, 2, 3, 4, 5, 6, 7, 8, 9, 10, 19876]"
      ]
     },
     "execution_count": 11,
     "metadata": {},
     "output_type": "execute_result"
    }
   ],
   "source": [
    "liste"
   ]
  },
  {
   "cell_type": "code",
   "execution_count": 12,
   "metadata": {},
   "outputs": [],
   "source": [
    "liste.append(\"azze\")"
   ]
  },
  {
   "cell_type": "code",
   "execution_count": 13,
   "metadata": {},
   "outputs": [
    {
     "data": {
      "text/plain": [
       "[1, 2, 3, 4, 5, 6, 7, 8, 9, 10, 19876, 'azze']"
      ]
     },
     "execution_count": 13,
     "metadata": {},
     "output_type": "execute_result"
    }
   ],
   "source": [
    "liste"
   ]
  },
  {
   "cell_type": "code",
   "execution_count": 14,
   "metadata": {},
   "outputs": [],
   "source": [
    "myList = [\"Python\", \"Java\", \"NodeJS\"]"
   ]
  },
  {
   "cell_type": "code",
   "execution_count": 15,
   "metadata": {},
   "outputs": [
    {
     "name": "stdout",
     "output_type": "stream",
     "text": [
      "['Python', 'NodeJS', 'Java', 'PHP']\n"
     ]
    }
   ],
   "source": [
    "\n",
    "#Insérer un élément en deuxième position:\n",
    "myList = [\"Python\", \"Java\", \"PHP\"]\n",
    "myList.insert(1 , \"NodeJS\")\n",
    "print(myList)"
   ]
  },
  {
   "cell_type": "code",
   "execution_count": 16,
   "metadata": {},
   "outputs": [
    {
     "name": "stdout",
     "output_type": "stream",
     "text": [
      "['Python', 'PHP']\n"
     ]
    }
   ],
   "source": [
    "\n",
    "#suppression d'un élément spécifié avec la méthode remove()\n",
    "myList = [\"Python\", \"C++\", \"PHP\"]\n",
    "myList.remove(\"C++\")\n",
    "print(myList)"
   ]
  },
  {
   "cell_type": "markdown",
   "metadata": {},
   "source": [
    "# 7. Liste en compréhension"
   ]
  },
  {
   "cell_type": "code",
   "execution_count": 17,
   "metadata": {},
   "outputs": [
    {
     "data": {
      "text/plain": [
       "[0, 2, 4, 6, 8]"
      ]
     },
     "execution_count": 17,
     "metadata": {},
     "output_type": "execute_result"
    }
   ],
   "source": [
    "liste_even = [ 2*n for n in range(5) ]\n",
    "liste_even"
   ]
  },
  {
   "cell_type": "code",
   "execution_count": 18,
   "metadata": {},
   "outputs": [
    {
     "data": {
      "text/plain": [
       "[0, 6, 12, 18]"
      ]
     },
     "execution_count": 18,
     "metadata": {},
     "output_type": "execute_result"
    }
   ],
   "source": [
    "liste_even_mult_3 = [2*n for n in range(10) if n%3==0]\n",
    "liste_even_mult_3"
   ]
  },
  {
   "cell_type": "markdown",
   "metadata": {},
   "source": [
    "# Découpage d'une liste ( list slicing)"
   ]
  },
  {
   "cell_type": "code",
   "execution_count": 23,
   "metadata": {},
   "outputs": [],
   "source": [
    "# découpage depuis  l'index 3 jusqu'au index 6\n",
    "my_list = ['h','e','l','l','o','w','o','r','l', 'd']"
   ]
  },
  {
   "cell_type": "code",
   "execution_count": 22,
   "metadata": {},
   "outputs": [
    {
     "data": {
      "text/plain": [
       "['l', 'o', 'w']"
      ]
     },
     "execution_count": 22,
     "metadata": {},
     "output_type": "execute_result"
    }
   ],
   "source": [
    "my_list[3:6]"
   ]
  },
  {
   "cell_type": "code",
   "execution_count": 28,
   "metadata": {},
   "outputs": [
    {
     "name": "stdout",
     "output_type": "stream",
     "text": [
      "d\n"
     ]
    }
   ],
   "source": [
    "# extraction du dernier élément\n",
    "print(my_list[-1])"
   ]
  },
  {
   "cell_type": "code",
   "execution_count": 29,
   "metadata": {},
   "outputs": [
    {
     "name": "stdout",
     "output_type": "stream",
     "text": [
      "o\n"
     ]
    }
   ],
   "source": [
    "print(my_list[-4])"
   ]
  },
  {
   "cell_type": "markdown",
   "metadata": {},
   "source": [
    "# A propos de la fonction lumbda"
   ]
  },
  {
   "cell_type": "code",
   "execution_count": 30,
   "metadata": {},
   "outputs": [],
   "source": [
    "y = lambda x: x+x"
   ]
  },
  {
   "cell_type": "code",
   "execution_count": 31,
   "metadata": {},
   "outputs": [
    {
     "name": "stdout",
     "output_type": "stream",
     "text": [
      "<function <lambda> at 0x123b949a0>\n"
     ]
    }
   ],
   "source": [
    "print(y)"
   ]
  },
  {
   "cell_type": "code",
   "execution_count": 32,
   "metadata": {},
   "outputs": [
    {
     "data": {
      "text/plain": [
       "20"
      ]
     },
     "execution_count": 32,
     "metadata": {},
     "output_type": "execute_result"
    }
   ],
   "source": [
    "y(10)"
   ]
  },
  {
   "cell_type": "code",
   "execution_count": 33,
   "metadata": {},
   "outputs": [],
   "source": [
    "L = [1, 2, 3, 4, 5]"
   ]
  },
  {
   "cell_type": "code",
   "execution_count": 37,
   "metadata": {},
   "outputs": [],
   "source": [
    "lis = list(map( lambda x:x**x , L ))"
   ]
  },
  {
   "cell_type": "code",
   "execution_count": 38,
   "metadata": {},
   "outputs": [
    {
     "name": "stdout",
     "output_type": "stream",
     "text": [
      "[1, 4, 27, 256, 3125]\n"
     ]
    }
   ],
   "source": [
    "print(lis)"
   ]
  },
  {
   "cell_type": "markdown",
   "metadata": {},
   "source": [
    "# Programmation Orientée Objet"
   ]
  },
  {
   "cell_type": "code",
   "execution_count": 59,
   "metadata": {},
   "outputs": [],
   "source": [
    "class Vehicule:\n",
    "    def __init__(self , marque , couleur):\n",
    "        self.marque = marque\n",
    "        self.couleur = couleur\n",
    "        print(\"je sus un vehicule\")\n",
    "        \n",
    "    \n",
    "    def demarrer(self):\n",
    "        print(f\" {self.marque} {self.couleur} a démarrer\")\n",
    "    \n",
    "    "
   ]
  },
  {
   "cell_type": "code",
   "execution_count": 41,
   "metadata": {},
   "outputs": [],
   "source": [
    "T = Vehicule(\"Toyota\", \"Rouge\")"
   ]
  },
  {
   "cell_type": "code",
   "execution_count": 42,
   "metadata": {},
   "outputs": [
    {
     "name": "stdout",
     "output_type": "stream",
     "text": [
      " Toyota Rouge a démarrer\n"
     ]
    }
   ],
   "source": [
    "T.demarrer()"
   ]
  },
  {
   "cell_type": "markdown",
   "metadata": {},
   "source": [
    "# 'Héritage"
   ]
  },
  {
   "cell_type": "code",
   "execution_count": 60,
   "metadata": {},
   "outputs": [],
   "source": [
    "class moto (Vehicule):\n",
    "    \n",
    "   def __init__(self, marque, couleur):\n",
    "        super().__init__(marque, couleur)\n",
    "        print(\"je suis une moto\")"
   ]
  },
  {
   "cell_type": "code",
   "execution_count": 61,
   "metadata": {},
   "outputs": [
    {
     "name": "stdout",
     "output_type": "stream",
     "text": [
      "je sus un vehicule\n",
      "je suis une moto\n"
     ]
    }
   ],
   "source": [
    "m = moto(\"SH\",\"Bleu\")\n"
   ]
  },
  {
   "cell_type": "code",
   "execution_count": 65,
   "metadata": {},
   "outputs": [],
   "source": [
    "class Point2D:\n",
    "    def __init__(self, x=0, y=0):\n",
    "        self.x = x\n",
    "        self.y = y\n",
    "\n",
    "    def __add__(self, other):\n",
    "        x = self.x + other.x\n",
    "        y = self.y + other.y\n",
    "        return Point2D(x, y)\n",
    "\n",
    "    def __repr__(self):\n",
    "        return f' dans repr(x={self.x}, y={self.y})'\n",
    "\n",
    "    def __str__(self):\n",
    "        return f'dans str ({self.x}, {self.y})'\n",
    "\n",
    "a = Point2D(1, 2)"
   ]
  },
  {
   "cell_type": "code",
   "execution_count": 66,
   "metadata": {},
   "outputs": [
    {
     "name": "stdout",
     "output_type": "stream",
     "text": [
      "dans str (1, 2)\n",
      "dans str (1, 2)\n",
      "dans str (1, 2)\n"
     ]
    }
   ],
   "source": [
    "\n",
    "print(a) # appel à __str__() implicitement\n",
    "\n",
    "print(a.__str__())\n",
    "print(str(a)) # méthode __str__() mais plus propre"
   ]
  },
  {
   "cell_type": "code",
   "execution_count": 67,
   "metadata": {},
   "outputs": [
    {
     "name": "stdout",
     "output_type": "stream",
     "text": [
      " dans repr(x=1, y=2)\n",
      " dans repr(x=1, y=2)\n"
     ]
    }
   ],
   "source": [
    "\n",
    "print(a.__repr__())\n",
    "print(repr(a)) # méthode __repr__() mais plus propre"
   ]
  },
  {
   "cell_type": "markdown",
   "metadata": {},
   "source": [
    "# Les Fichiers"
   ]
  },
  {
   "cell_type": "code",
   "execution_count": 80,
   "metadata": {},
   "outputs": [],
   "source": [
    "# créer un fichier pour le lire ensuite\n",
    "! echo \"Lorem ipsum dolor sit amet, consectetur adipiscing elit. Donec condimentum mauris in metus rutrum, pharetra imperdiet purus auctor.\" > file.txt\n",
    "! echo \"Fusce ac luctus massa. Integer dapibus eu sapien at venenatis. Phasellus vel aliquet ante.\" >> file.txt\n",
    "! echo \"Integer consectetur efficitur commodo. Quisque dignissim ultrices placerat.\" >> file.txt"
   ]
  },
  {
   "cell_type": "code",
   "execution_count": 81,
   "metadata": {},
   "outputs": [
    {
     "name": "stdout",
     "output_type": "stream",
     "text": [
      "Lorem ipsum dolor sit amet, consectetur adipiscing elit. Donec condimentum mauris in metus rutrum, pharetra imperdiet purus auctor.\n",
      "Fusce ac luctus massa. Integer dapibus eu sapien at venenatis. Phasellus vel aliquet ante.\n",
      "Integer consectetur efficitur commodo. Quisque dignissim ultrices placerat.\n",
      "\n"
     ]
    }
   ],
   "source": [
    "f = open(\"file.txt\", \"r\")\n",
    "print(f.read())\n",
    "f.close()"
   ]
  },
  {
   "cell_type": "code",
   "execution_count": 82,
   "metadata": {},
   "outputs": [
    {
     "name": "stdout",
     "output_type": "stream",
     "text": [
      "['Lorem ipsum dolor sit amet, consectetur adipiscing elit. Donec condimentum mauris in metus rutrum, pharetra imperdiet purus auctor.\\n', 'Fusce ac luctus massa. Integer dapibus eu sapien at venenatis. Phasellus vel aliquet ante.\\n', 'Integer consectetur efficitur commodo. Quisque dignissim ultrices placerat.\\n']\n",
      "\n",
      "\n",
      " of ligne :  3\n"
     ]
    }
   ],
   "source": [
    "with open(\"file.txt\" , \"r\") as mon_fichier:\n",
    "    lignes = mon_fichier.readlines()\n",
    "    print(lignes)\n",
    "    print(\"\\n\")\n",
    "    print(\" of ligne : \" , len(lignes))"
   ]
  },
  {
   "cell_type": "code",
   "execution_count": 75,
   "metadata": {},
   "outputs": [
    {
     "name": "stdout",
     "output_type": "stream",
     "text": [
      "Lorem ipsum dolor sit amet, consectetur adipiscing elit. Donec condimentum mauris in metus rutrum, pharetra imperdiet purus auctor.\n",
      "\n",
      "Fusce ac luctus massa. Integer dapibus eu sapien at venenatis. Phasellus vel aliquet ante.\n",
      "\n",
      "Integer consectetur efficitur commodo. Quisque dignissim ultrices placerat.\n",
      "\n"
     ]
    }
   ],
   "source": [
    "with open(\"file.txt\" , \"r\") as mon_fichier:\n",
    "    for ligne in mon_fichier:\n",
    "        print(ligne)"
   ]
  },
  {
   "cell_type": "code",
   "execution_count": 83,
   "metadata": {},
   "outputs": [],
   "source": [
    "with open(\"file.txt\" , 'a') as mon_fichier:\n",
    "    mon_fichier.write(\"Diamou Serigne Touba\\n\")\n",
    "    mon_fichier.write(\"Diamou Serigne Touba\\n\")"
   ]
  },
  {
   "cell_type": "code",
   "execution_count": 84,
   "metadata": {},
   "outputs": [
    {
     "name": "stdout",
     "output_type": "stream",
     "text": [
      "Lorem ipsum dolor sit amet, consectetur adipiscing elit. Donec condimentum mauris in metus rutrum, pharetra imperdiet purus auctor.\n",
      "\n",
      "Fusce ac luctus massa. Integer dapibus eu sapien at venenatis. Phasellus vel aliquet ante.\n",
      "\n",
      "Integer consectetur efficitur commodo. Quisque dignissim ultrices placerat.\n",
      "\n",
      "Diamou Serigne Touba\n",
      "\n",
      "Diamou Serigne Touba\n",
      "\n"
     ]
    }
   ],
   "source": [
    "with open(\"file.txt\" , \"r\") as mon_fichier:\n",
    "    for ligne in mon_fichier:\n",
    "        print(ligne)"
   ]
  },
  {
   "cell_type": "markdown",
   "metadata": {},
   "source": [
    "# Exceptions"
   ]
  },
  {
   "cell_type": "code",
   "execution_count": null,
   "metadata": {},
   "outputs": [],
   "source": [
    "x = -1\n",
    "\n",
    "try:\n",
    "    if x < 0:\n",
    "        raise Exception(\"Sorry, no numbers below zero\")\n",
    "except:\n",
    "    print(\"Something went wrong ++\")\n",
    "else:\n",
    "    print(\"Nothing went wrong -- \")\n",
    "finally:\n",
    "    print(\"Something or Nothing went wrong\")"
   ]
  },
  {
   "cell_type": "code",
   "execution_count": null,
   "metadata": {},
   "outputs": [],
   "source": []
  },
  {
   "cell_type": "markdown",
   "metadata": {},
   "source": [
    "# Numpy"
   ]
  },
  {
   "cell_type": "code",
   "execution_count": 85,
   "metadata": {},
   "outputs": [],
   "source": [
    "import numpy as np\n",
    "\n",
    "tab = np.array([1, 2, 3, 4, 5, 6, 7, 8, 9, 10])"
   ]
  },
  {
   "cell_type": "code",
   "execution_count": 96,
   "metadata": {},
   "outputs": [
    {
     "data": {
      "text/plain": [
       "array([[ 1,  2,  3,  4,  5],\n",
       "       [ 6,  7,  8,  9, 10]])"
      ]
     },
     "execution_count": 96,
     "metadata": {},
     "output_type": "execute_result"
    }
   ],
   "source": [
    "tab.reshape(2, 5)"
   ]
  },
  {
   "cell_type": "code",
   "execution_count": 86,
   "metadata": {},
   "outputs": [],
   "source": [
    "b = np.array([[1, 2, 3],\n",
    "              [4, 5, 6]])"
   ]
  },
  {
   "cell_type": "code",
   "execution_count": 87,
   "metadata": {},
   "outputs": [
    {
     "data": {
      "text/plain": [
       "(2, 3)"
      ]
     },
     "execution_count": 87,
     "metadata": {},
     "output_type": "execute_result"
    }
   ],
   "source": [
    "b.shape"
   ]
  },
  {
   "cell_type": "code",
   "execution_count": 88,
   "metadata": {},
   "outputs": [
    {
     "data": {
      "text/plain": [
       "2"
      ]
     },
     "execution_count": 88,
     "metadata": {},
     "output_type": "execute_result"
    }
   ],
   "source": [
    "b.ndim"
   ]
  },
  {
   "cell_type": "code",
   "execution_count": 89,
   "metadata": {},
   "outputs": [
    {
     "data": {
      "text/plain": [
       "6"
      ]
     },
     "execution_count": 89,
     "metadata": {},
     "output_type": "execute_result"
    }
   ],
   "source": [
    "b.size"
   ]
  },
  {
   "cell_type": "code",
   "execution_count": 90,
   "metadata": {},
   "outputs": [
    {
     "name": "stdout",
     "output_type": "stream",
     "text": [
      "La forme de a est: (3,)\n",
      "Le nombre de dimensions de a est: 1\n",
      "Le nombre total d'éléments dans a est: 3\n",
      "\n",
      "La forme de b est: (2, 3)\n",
      "Le nombre de dimensions de b est: 2\n",
      "Le nombre total d'éléments dans b est: 6\n",
      "\n",
      "La forme de c est: (2, 2, 2)\n",
      "Le nombre de dimensions de c est: 3\n",
      "Le nombre total d'éléments dans c est: 8\n"
     ]
    }
   ],
   "source": [
    "a = np.array([1, 2, 3])\n",
    "\n",
    "b = np.array([[1, 2, 3],\n",
    "              [4, 5, 6]])\n",
    "\n",
    "c = np.array([[[1, 2],\n",
    "               [3, 4]],\n",
    "              [[5, 6],\n",
    "               [7, 8]]])\n",
    "\n",
    "print('La forme de a est:', a.shape)\n",
    "print('Le nombre de dimensions de a est:', a.ndim)\n",
    "print('Le nombre total d\\'éléments dans a est:', a.size)\n",
    "print()\n",
    "print('La forme de b est:', b.shape)\n",
    "print('Le nombre de dimensions de b est:', b.ndim)\n",
    "print('Le nombre total d\\'éléments dans b est:', b.size)\n",
    "print()\n",
    "print('La forme de c est:', c.shape)\n",
    "print('Le nombre de dimensions de c est:', c.ndim)\n",
    "print('Le nombre total d\\'éléments dans c est:', c.size)\n"
   ]
  },
  {
   "cell_type": "code",
   "execution_count": 92,
   "metadata": {},
   "outputs": [
    {
     "name": "stdout",
     "output_type": "stream",
     "text": [
      "[0 1 2 3 4 5] \n",
      "\n",
      "[[0 1 2]\n",
      " [3 4 5]] \n",
      "\n",
      "[[0 1]\n",
      " [2 3]\n",
      " [4 5]] \n",
      "\n"
     ]
    }
   ],
   "source": [
    "data = np.arange(6)\n",
    "print(data, \"\\n\")\n",
    "data = data.reshape(2, 3)\n",
    "print(data , \"\\n\")\n",
    "data = data.reshape(3, 2)\n",
    "print(data , \"\\n\")"
   ]
  },
  {
   "cell_type": "code",
   "execution_count": 93,
   "metadata": {},
   "outputs": [
    {
     "data": {
      "text/plain": [
       "array([[0, 1],\n",
       "       [2, 3],\n",
       "       [4, 5]])"
      ]
     },
     "execution_count": 93,
     "metadata": {},
     "output_type": "execute_result"
    }
   ],
   "source": [
    "data"
   ]
  },
  {
   "cell_type": "code",
   "execution_count": 94,
   "metadata": {},
   "outputs": [
    {
     "data": {
      "text/plain": [
       "array([[0, 1],\n",
       "       [2, 3],\n",
       "       [4, 5]])"
      ]
     },
     "execution_count": 94,
     "metadata": {},
     "output_type": "execute_result"
    }
   ],
   "source": [
    "data.reshape(3, -1)"
   ]
  },
  {
   "cell_type": "code",
   "execution_count": null,
   "metadata": {},
   "outputs": [],
   "source": []
  }
 ],
 "metadata": {
  "kernelspec": {
   "display_name": "base",
   "language": "python",
   "name": "python3"
  },
  "language_info": {
   "codemirror_mode": {
    "name": "ipython",
    "version": 3
   },
   "file_extension": ".py",
   "mimetype": "text/x-python",
   "name": "python",
   "nbconvert_exporter": "python",
   "pygments_lexer": "ipython3",
   "version": "3.12.7"
  }
 },
 "nbformat": 4,
 "nbformat_minor": 2
}
